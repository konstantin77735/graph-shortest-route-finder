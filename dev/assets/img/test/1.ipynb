{
 "cells": [
  {
   "cell_type": "code",
   "execution_count": null,
   "metadata": {},
   "outputs": [],
   "source": [
    "import os\n",
    "\n",
    "etc_folder = \"etc\"\n",
    "webp_folder = \"webp\"\n",
    "\n",
    "# Получаем список файлов в папках\n",
    "etc_files = {os.path.splitext(f)[0] for f in os.listdir(etc_folder)}\n",
    "webp_files = {os.path.splitext(f)[0] for f in os.listdir(webp_folder)}\n",
    "\n",
    "# Находим файлы, которых нет в webp\n",
    "missing_files = etc_files - webp_files\n",
    "\n",
    "print(\"Не конвертированы:\", missing_files)\n"
   ]
  }
 ],
 "metadata": {
  "language_info": {
   "name": "python"
  }
 },
 "nbformat": 4,
 "nbformat_minor": 2
}
